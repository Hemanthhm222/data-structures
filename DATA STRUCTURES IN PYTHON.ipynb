{
 "cells": [
  {
   "cell_type": "code",
   "execution_count": 1,
   "metadata": {},
   "outputs": [],
   "source": [
    "#ARRAYS"
   ]
  },
  {
   "cell_type": "code",
   "execution_count": 2,
   "metadata": {},
   "outputs": [
    {
     "name": "stdout",
     "output_type": "stream",
     "text": [
      "150\n",
      "9280\n",
      "['january', 'february', 'march', 'april', 'may', 'june'] [2200, 2350, 2600, 2130, 2190, 1980]\n",
      "2330\n"
     ]
    }
   ],
   "source": [
    "month=['january','february','march','april','may']\n",
    "expense=[2200,2350,2600,2130,2190]\n",
    "x=expense[month.index('february')]\n",
    "y=expense[month.index('january')]\n",
    "print(x-y)\n",
    "print(sum(expense[:4]))\n",
    "for i in expense:\n",
    "    if i ==2000:\n",
    "        print(bool(month[expense.index(i)]))\n",
    "month.append('june')\n",
    "expense.append(1980)\n",
    "print(month,expense)\n",
    "print(expense[month.index('april')]+200)\n"
   ]
  },
  {
   "cell_type": "code",
   "execution_count": null,
   "metadata": {},
   "outputs": [],
   "source": []
  },
  {
   "cell_type": "code",
   "execution_count": 3,
   "metadata": {},
   "outputs": [],
   "source": [
    "#LINKED LIST "
   ]
  },
  {
   "cell_type": "code",
   "execution_count": 4,
   "metadata": {},
   "outputs": [
    {
     "name": "stdout",
     "output_type": "stream",
     "text": [
      "figs->apple->pomogranate->banana->grapes->gauva->orange->\n",
      "length :  7\n"
     ]
    }
   ],
   "source": [
    "class Node:\n",
    "    def __init__(self,data=None,next=None):\n",
    "        self.data=data\n",
    "        self.next=next\n",
    "class Linked_list:\n",
    "    def __init__(self):\n",
    "        self.head=None\n",
    "\n",
    "    def insert_at_begining(self,data):\n",
    "        node=Node(data,self.head)\n",
    "        self.head=node\n",
    "    def print(self):\n",
    "        if self.head is None:\n",
    "            print('empty linked list')\n",
    "            return\n",
    "        itr=self.head\n",
    "        llstr=''\n",
    "        while itr:\n",
    "            llstr+=str(itr.data)+'->'\n",
    "            itr=itr.next\n",
    "        print(llstr)\n",
    "    def insert_at_end(self,data):\n",
    "        if self.head is None:\n",
    "            self.head=Node(data,None)\n",
    "            return\n",
    "        itr=self.head\n",
    "        while itr.next:\n",
    "            itr=itr.next\n",
    "        itr.next=Node(data,None)\n",
    "    def insert_values(self,data_list):\n",
    "        for data in data_list:\n",
    "            self.insert_at_end((data))\n",
    "    def get_length(self):\n",
    "        count=0\n",
    "        itr=self.head\n",
    "        while itr:\n",
    "            count+=1\n",
    "            itr=itr.next\n",
    "        return count\n",
    "    def remove_at(self,index):\n",
    "        if index<0 or index>self.get_length():\n",
    "            raise Exception('invalid index')\n",
    "        if index==0:\n",
    "            delf.head=self.head.next\n",
    "            return\n",
    "        count=0\n",
    "        itr=self.head\n",
    "        while itr:\n",
    "            if count==index-1:\n",
    "                itr.next=itr.next.next\n",
    "                break\n",
    "            itr =itr.next\n",
    "            count+=1\n",
    "    def insert_at(self,index,data):\n",
    "        if index<0 or index>self.get_length():\n",
    "            raise Exception('invalid index')\n",
    "        if index==0:\n",
    "            self.insert_at_begining(data)\n",
    "            return\n",
    "        count=0\n",
    "        itr=self.head\n",
    "        while itr:\n",
    "            if count==index-1:\n",
    "                node=Node(data,itr.next)\n",
    "                itr.next=node\n",
    "                break\n",
    "\n",
    "            itr=itr.next\n",
    "            count+=1\n",
    "\n",
    "if __name__=='__main__':\n",
    "    ll=Linked_list()\n",
    "    ll.insert_values(['banana','grapes','chikku','gauva'])\n",
    "    ll.insert_at_begining('apple')\n",
    "    ll.insert_at_end('orange')\n",
    "    ll.remove_at(3)\n",
    "    ll.insert_at(0,'figs')\n",
    "    ll.insert_at(2,'pomogranate')\n",
    "    ll.print()\n",
    "    print('length : ',ll.get_length())"
   ]
  },
  {
   "cell_type": "code",
   "execution_count": null,
   "metadata": {},
   "outputs": [],
   "source": []
  },
  {
   "cell_type": "code",
   "execution_count": 5,
   "metadata": {},
   "outputs": [],
   "source": [
    "#SINGLY LINKED LIST  - creating node"
   ]
  },
  {
   "cell_type": "code",
   "execution_count": 6,
   "metadata": {},
   "outputs": [
    {
     "name": "stdout",
     "output_type": "stream",
     "text": [
      "<__main__.Node object at 0x00000271FFD339D0>\n"
     ]
    }
   ],
   "source": [
    "class Node:\n",
    "    def __init__(self,data):\n",
    "        self.data=data\n",
    "        self.ref=None\n",
    "node=Node(10)\n",
    "print(node)\n",
    "    \n",
    "        "
   ]
  },
  {
   "cell_type": "code",
   "execution_count": 7,
   "metadata": {},
   "outputs": [],
   "source": [
    "# SINGLY LINKED LIST - INSERTION and DELETION and TRAVERSAL"
   ]
  },
  {
   "cell_type": "code",
   "execution_count": 8,
   "metadata": {},
   "outputs": [
    {
     "name": "stdout",
     "output_type": "stream",
     "text": [
      "5->10->20->75->"
     ]
    }
   ],
   "source": [
    "class Node:\n",
    "    def __init__(self,data):\n",
    "        self.data=data\n",
    "        self.ref=None\n",
    "class Linked_list:\n",
    "    def __init__(self):\n",
    "        self.head=None\n",
    "    def insert_at_beginning (self,val):\n",
    "        new_node=Node(val)\n",
    "        new_node.ref=self.head\n",
    "        self.head=new_node\n",
    "    def insert_at_end(self,val):\n",
    "        new_node=Node(val)\n",
    "        if self.head is None:\n",
    "            self.head=new_node\n",
    "        else:\n",
    "            n=self.head\n",
    "            while n.ref is not None:\n",
    "                n=n.ref\n",
    "            n.ref=new_node\n",
    "    def insert_after_node(self,data,x):\n",
    "        n=self.head\n",
    "        while n.ref is not None:\n",
    "            if x==n.data:\n",
    "                break\n",
    "            n=n.ref\n",
    "        if n.ref is None:\n",
    "            print('node is not present in linked list')\n",
    "        else:\n",
    "            new_node=Node(data)\n",
    "            new_node.ref=n.ref\n",
    "            n.ref=new_node\n",
    "    def insert_before_node(self,data,y):\n",
    "        if self.head is None:\n",
    "            print('linked list is empty')\n",
    "            return\n",
    "        if self.head.data==y:\n",
    "            new_node=Node(data)\n",
    "            new_node.ref=self.head\n",
    "            self.head=new_node\n",
    "            return\n",
    "        n=self.head\n",
    "        while n.ref is not None:\n",
    "            if n.ref.data==y:\n",
    "                break\n",
    "            n=n.ref\n",
    "        if n.ref is None:\n",
    "            print('node not found')\n",
    "        else:\n",
    "            new_node=Node(data)\n",
    "            new_node.ref=n.ref\n",
    "            n.ref=new_node\n",
    "    def insert_when_empty(self,data):\n",
    "        if self.head is None:\n",
    "            new_node=Node(data)\n",
    "            self.head=new_node\n",
    "        else:\n",
    "            print('linked list is not empty')\n",
    "    def delete_at_beginning(self):\n",
    "        if self.head is None:\n",
    "            print('linked list is empty')\n",
    "            return\n",
    "        self.head=self.head.ref\n",
    "    def delete_at_end(self):\n",
    "        n=self.head\n",
    "        if self.head is None:\n",
    "            print('linked list is empty')\n",
    "            return\n",
    "        while n.ref.ref is not None:\n",
    "            n=n.ref\n",
    "        n.ref=None\n",
    "    def delete_value(self,val):\n",
    "        if self.head is None:\n",
    "            print('linked list is empty')\n",
    "            return\n",
    "        n=self.head\n",
    "        while n.ref is not None:\n",
    "            if n.ref.data==val:\n",
    "                n.ref=n.ref.ref\n",
    "                break\n",
    "            n=n.ref\n",
    "        if n.ref is None:\n",
    "            print('node is not present')\n",
    "            \n",
    "               \n",
    "    def print_ll(self):  # TRAVERSAL OPERATION\n",
    "        if self.head is None:\n",
    "            return 'linked list is empty'\n",
    "        elif self.head.ref is None:\n",
    "            self.head=None\n",
    "        else:\n",
    "            n=self.head\n",
    "            while n is not None:\n",
    "                print(str(n.data)+'->',end='')\n",
    "                n=n.ref\n",
    "    \n",
    "            \n",
    "\n",
    "ll= Linked_list()\n",
    "ll.insert_at_beginning(10)\n",
    "ll.insert_at_end(20)\n",
    "ll.insert_at_beginning(5)\n",
    "ll.insert_at_end(100)\n",
    "ll.insert_after_node(50,20)\n",
    "ll.insert_before_node(75,100)\n",
    "ll.delete_at_beginning()\n",
    "ll.insert_at_beginning(5)\n",
    "ll.delete_at_end()\n",
    "ll.delete_value(50)\n",
    "ll.print_ll()\n",
    "        \n",
    "        "
   ]
  },
  {
   "cell_type": "code",
   "execution_count": null,
   "metadata": {},
   "outputs": [],
   "source": []
  },
  {
   "cell_type": "code",
   "execution_count": 9,
   "metadata": {},
   "outputs": [],
   "source": [
    "#STACKS"
   ]
  },
  {
   "cell_type": "code",
   "execution_count": 10,
   "metadata": {},
   "outputs": [],
   "source": [
    "# last in first out (LIFO) and first in last out(FILO)"
   ]
  },
  {
   "cell_type": "code",
   "execution_count": 11,
   "metadata": {},
   "outputs": [],
   "source": [
    "import collections"
   ]
  },
  {
   "cell_type": "code",
   "execution_count": 12,
   "metadata": {},
   "outputs": [],
   "source": [
    "#push operation\n",
    "#pop operation\n"
   ]
  },
  {
   "cell_type": "code",
   "execution_count": 13,
   "metadata": {},
   "outputs": [
    {
     "data": {
      "text/plain": [
       "deque([10, 20])"
      ]
     },
     "execution_count": 13,
     "metadata": {},
     "output_type": "execute_result"
    }
   ],
   "source": [
    "stack=collections.deque()\n",
    "stack.append(10)\n",
    "stack.append(20)\n",
    "stack"
   ]
  },
  {
   "cell_type": "code",
   "execution_count": 14,
   "metadata": {},
   "outputs": [
    {
     "data": {
      "text/plain": [
       "deque([])"
      ]
     },
     "execution_count": 14,
     "metadata": {},
     "output_type": "execute_result"
    }
   ],
   "source": [
    "#POP OPERATION\n",
    "stack.pop()\n",
    "stack.pop()\n",
    "stack"
   ]
  },
  {
   "cell_type": "code",
   "execution_count": 15,
   "metadata": {},
   "outputs": [
    {
     "data": {
      "text/plain": [
       "<queue.LifoQueue at 0x271ffd546d0>"
      ]
     },
     "execution_count": 15,
     "metadata": {},
     "output_type": "execute_result"
    }
   ],
   "source": [
    "import queue\n",
    "stack=queue.LifoQueue(3)\n",
    "stack.put(10)\n",
    "stack.put(20)\n",
    "stack"
   ]
  },
  {
   "cell_type": "code",
   "execution_count": 16,
   "metadata": {},
   "outputs": [],
   "source": [
    "#QUEUE"
   ]
  },
  {
   "cell_type": "code",
   "execution_count": 17,
   "metadata": {},
   "outputs": [],
   "source": [
    "#ENQUEUE - process of adding elements to queue (append method)"
   ]
  },
  {
   "cell_type": "code",
   "execution_count": 18,
   "metadata": {},
   "outputs": [],
   "source": [
    "#DEQUEUE - process of removing the elements from queue (pop method)"
   ]
  },
  {
   "cell_type": "code",
   "execution_count": 19,
   "metadata": {},
   "outputs": [],
   "source": [
    "#queue undergoes first in first out and last in last out"
   ]
  },
  {
   "cell_type": "code",
   "execution_count": 20,
   "metadata": {},
   "outputs": [],
   "source": [
    "queue=[]\n",
    "queue.append(10)\n",
    "queue.append(20)\n",
    "queue.append(30)\n",
    "queue.append(40)"
   ]
  },
  {
   "cell_type": "code",
   "execution_count": 21,
   "metadata": {},
   "outputs": [
    {
     "data": {
      "text/plain": [
       "[10, 20, 30, 40]"
      ]
     },
     "execution_count": 21,
     "metadata": {},
     "output_type": "execute_result"
    }
   ],
   "source": [
    "queue"
   ]
  },
  {
   "cell_type": "code",
   "execution_count": 22,
   "metadata": {},
   "outputs": [
    {
     "data": {
      "text/plain": [
       "10"
      ]
     },
     "execution_count": 22,
     "metadata": {},
     "output_type": "execute_result"
    }
   ],
   "source": [
    "queue.pop(0)"
   ]
  },
  {
   "cell_type": "code",
   "execution_count": 23,
   "metadata": {},
   "outputs": [],
   "source": [
    "queue.insert(0,100)"
   ]
  },
  {
   "cell_type": "code",
   "execution_count": 24,
   "metadata": {},
   "outputs": [],
   "source": [
    "queue.insert(2,200)"
   ]
  },
  {
   "cell_type": "code",
   "execution_count": 25,
   "metadata": {},
   "outputs": [
    {
     "data": {
      "text/plain": [
       "[100, 20, 200, 30, 40]"
      ]
     },
     "execution_count": 25,
     "metadata": {},
     "output_type": "execute_result"
    }
   ],
   "source": [
    "queue"
   ]
  },
  {
   "cell_type": "code",
   "execution_count": 26,
   "metadata": {},
   "outputs": [
    {
     "data": {
      "text/plain": [
       "40"
      ]
     },
     "execution_count": 26,
     "metadata": {},
     "output_type": "execute_result"
    }
   ],
   "source": [
    "queue.pop()"
   ]
  },
  {
   "cell_type": "code",
   "execution_count": 27,
   "metadata": {},
   "outputs": [
    {
     "data": {
      "text/plain": [
       "False"
      ]
     },
     "execution_count": 27,
     "metadata": {},
     "output_type": "execute_result"
    }
   ],
   "source": [
    "not queue"
   ]
  },
  {
   "cell_type": "code",
   "execution_count": 28,
   "metadata": {},
   "outputs": [],
   "source": [
    "a=[]"
   ]
  },
  {
   "cell_type": "code",
   "execution_count": 29,
   "metadata": {},
   "outputs": [
    {
     "data": {
      "text/plain": [
       "True"
      ]
     },
     "execution_count": 29,
     "metadata": {},
     "output_type": "execute_result"
    }
   ],
   "source": [
    "not a"
   ]
  },
  {
   "cell_type": "code",
   "execution_count": 30,
   "metadata": {},
   "outputs": [],
   "source": [
    "# dqueue from collections module"
   ]
  },
  {
   "cell_type": "code",
   "execution_count": 31,
   "metadata": {},
   "outputs": [],
   "source": [
    "import queue"
   ]
  },
  {
   "cell_type": "code",
   "execution_count": 32,
   "metadata": {},
   "outputs": [],
   "source": [
    "import collections"
   ]
  },
  {
   "cell_type": "code",
   "execution_count": 33,
   "metadata": {},
   "outputs": [],
   "source": [
    "q=collections.deque()"
   ]
  },
  {
   "cell_type": "code",
   "execution_count": 34,
   "metadata": {},
   "outputs": [
    {
     "data": {
      "text/plain": [
       "deque([])"
      ]
     },
     "execution_count": 34,
     "metadata": {},
     "output_type": "execute_result"
    }
   ],
   "source": [
    "q"
   ]
  },
  {
   "cell_type": "code",
   "execution_count": 35,
   "metadata": {},
   "outputs": [],
   "source": [
    "q.appendleft(10)"
   ]
  },
  {
   "cell_type": "code",
   "execution_count": 36,
   "metadata": {},
   "outputs": [],
   "source": [
    "q.appendleft(20)"
   ]
  },
  {
   "cell_type": "code",
   "execution_count": 37,
   "metadata": {},
   "outputs": [],
   "source": [
    "q.append(30)"
   ]
  },
  {
   "cell_type": "code",
   "execution_count": 38,
   "metadata": {},
   "outputs": [],
   "source": [
    "q.appendleft(60)"
   ]
  },
  {
   "cell_type": "code",
   "execution_count": 39,
   "metadata": {},
   "outputs": [
    {
     "data": {
      "text/plain": [
       "deque([60, 20, 10, 30])"
      ]
     },
     "execution_count": 39,
     "metadata": {},
     "output_type": "execute_result"
    }
   ],
   "source": [
    "q"
   ]
  },
  {
   "cell_type": "code",
   "execution_count": 40,
   "metadata": {},
   "outputs": [
    {
     "data": {
      "text/plain": [
       "60"
      ]
     },
     "execution_count": 40,
     "metadata": {},
     "output_type": "execute_result"
    }
   ],
   "source": [
    "q.popleft()"
   ]
  },
  {
   "cell_type": "code",
   "execution_count": 41,
   "metadata": {},
   "outputs": [
    {
     "data": {
      "text/plain": [
       "30"
      ]
     },
     "execution_count": 41,
     "metadata": {},
     "output_type": "execute_result"
    }
   ],
   "source": [
    "q.pop()"
   ]
  },
  {
   "cell_type": "code",
   "execution_count": 42,
   "metadata": {},
   "outputs": [],
   "source": [
    "#put(block=True,timeout=None)\n",
    "#get(block=True,timeout=None)"
   ]
  },
  {
   "cell_type": "code",
   "execution_count": 43,
   "metadata": {},
   "outputs": [],
   "source": [
    "q=queue.Queue()\n",
    "q.put(10)\n",
    "q.put(20)\n",
    "q.put(30)\n"
   ]
  },
  {
   "cell_type": "code",
   "execution_count": 44,
   "metadata": {},
   "outputs": [
    {
     "data": {
      "text/plain": [
       "<queue.Queue at 0x271ffd83a00>"
      ]
     },
     "execution_count": 44,
     "metadata": {},
     "output_type": "execute_result"
    }
   ],
   "source": [
    "q"
   ]
  },
  {
   "cell_type": "code",
   "execution_count": 45,
   "metadata": {},
   "outputs": [
    {
     "data": {
      "text/plain": [
       "10"
      ]
     },
     "execution_count": 45,
     "metadata": {},
     "output_type": "execute_result"
    }
   ],
   "source": [
    "q.get()"
   ]
  },
  {
   "cell_type": "code",
   "execution_count": 46,
   "metadata": {},
   "outputs": [
    {
     "data": {
      "text/plain": [
       "20"
      ]
     },
     "execution_count": 46,
     "metadata": {},
     "output_type": "execute_result"
    }
   ],
   "source": [
    "q.get()"
   ]
  },
  {
   "cell_type": "code",
   "execution_count": 47,
   "metadata": {},
   "outputs": [],
   "source": [
    "#TREE - non linear data structures , it is the collection of nodes"
   ]
  },
  {
   "cell_type": "code",
   "execution_count": 48,
   "metadata": {},
   "outputs": [],
   "source": [
    "# top most node is root node"
   ]
  },
  {
   "cell_type": "code",
   "execution_count": 49,
   "metadata": {},
   "outputs": [],
   "source": [
    "# edge or link - it gives the connection beetween link"
   ]
  },
  {
   "cell_type": "code",
   "execution_count": 50,
   "metadata": {},
   "outputs": [],
   "source": [
    "#parent node "
   ]
  },
  {
   "cell_type": "code",
   "execution_count": 51,
   "metadata": {},
   "outputs": [],
   "source": [
    "# leaf node /external node = nodes present at the end of the tree which has no further child nodes"
   ]
  },
  {
   "cell_type": "code",
   "execution_count": 52,
   "metadata": {},
   "outputs": [],
   "source": [
    "#path"
   ]
  },
  {
   "cell_type": "code",
   "execution_count": 53,
   "metadata": {},
   "outputs": [
    {
     "data": {
      "text/plain": [
       "'characteristics of tree :\\n    tree mudt contain root node\\n    if tree contains n nodes then we will have n-1 edges\\n    tree are recursive data structure'"
      ]
     },
     "execution_count": 53,
     "metadata": {},
     "output_type": "execute_result"
    }
   ],
   "source": [
    "'''characteristics of tree :\n",
    "    tree mudt contain root node\n",
    "    if tree contains n nodes then we will have n-1 edges\n",
    "    tree are recursive data structure''' "
   ]
  },
  {
   "cell_type": "code",
   "execution_count": 54,
   "metadata": {},
   "outputs": [],
   "source": [
    "# degree of a node = total number of childern at that node"
   ]
  },
  {
   "cell_type": "code",
   "execution_count": 55,
   "metadata": {},
   "outputs": [],
   "source": [
    "#degree of the tree = highest among the degree of the node"
   ]
  },
  {
   "cell_type": "code",
   "execution_count": 56,
   "metadata": {},
   "outputs": [],
   "source": [
    "# level of tree "
   ]
  },
  {
   "cell_type": "code",
   "execution_count": 57,
   "metadata": {},
   "outputs": [],
   "source": [
    "# height of a node = total number of edges that lies on the longest path from any leeaf node to a particular node"
   ]
  },
  {
   "cell_type": "code",
   "execution_count": 58,
   "metadata": {},
   "outputs": [],
   "source": [
    "#height of the tree = highest among the height of the node"
   ]
  },
  {
   "cell_type": "code",
   "execution_count": 59,
   "metadata": {},
   "outputs": [],
   "source": [
    "# depth = no of edges from root node to specified node"
   ]
  },
  {
   "cell_type": "code",
   "execution_count": 60,
   "metadata": {},
   "outputs": [],
   "source": [
    "# types = 1. general tree 2.binary tree "
   ]
  },
  {
   "cell_type": "code",
   "execution_count": 61,
   "metadata": {},
   "outputs": [],
   "source": [
    "# binary search  tree bst"
   ]
  },
  {
   "cell_type": "code",
   "execution_count": 62,
   "metadata": {},
   "outputs": [],
   "source": [
    "class bst:\n",
    "    def __init__(self,key):\n",
    "        self.key=key\n",
    "        self.lchild=None\n",
    "        self.rchild=None\n",
    "    \n",
    "    "
   ]
  },
  {
   "cell_type": "code",
   "execution_count": 63,
   "metadata": {},
   "outputs": [],
   "source": [
    "root=bst(10)"
   ]
  },
  {
   "cell_type": "code",
   "execution_count": 64,
   "metadata": {},
   "outputs": [
    {
     "name": "stdout",
     "output_type": "stream",
     "text": [
      "10\n",
      "None\n",
      "None\n"
     ]
    }
   ],
   "source": [
    "print(root.key)\n",
    "print(root.lchild)\n",
    "print(root.rchild)"
   ]
  },
  {
   "cell_type": "code",
   "execution_count": 65,
   "metadata": {},
   "outputs": [],
   "source": [
    "#insertion\n"
   ]
  },
  {
   "cell_type": "code",
   "execution_count": 66,
   "metadata": {},
   "outputs": [],
   "source": [
    "from collections import deque"
   ]
  },
  {
   "cell_type": "code",
   "execution_count": 67,
   "metadata": {},
   "outputs": [],
   "source": [
    "class bst:\n",
    "    def __init__(self,key):\n",
    "        self.key=key\n",
    "        self.lchild=None\n",
    "        self.rchild=None\n",
    "    \n",
    "    def insert(self,data):\n",
    "        if self.key==None:\n",
    "            self.key=data\n",
    "            return\n",
    "        if self.key == data: #duplicate keys\n",
    "            return  \n",
    "        if data < self.key:\n",
    "            if self.lchild!=None:\n",
    "                self.lchild.insert(data)\n",
    "            else:\n",
    "                self.lchild = bst(data)\n",
    "        else:\n",
    "            if self.rchild!=None:\n",
    "                self.rchild.insert(data)\n",
    "            else:\n",
    "                self.rchild = bst(data)\n",
    "                \n",
    "    def search(self,data):\n",
    "        if data==self.key:\n",
    "            print('data is found')\n",
    "            return\n",
    "        \n",
    "        if data < self.key:\n",
    "            if self.lchild !=None:\n",
    "                self.lchild.search(data)\n",
    "            else:\n",
    "                print('node is not present')\n",
    "        else:\n",
    "            if self.rchild != None:\n",
    "                self.rchild.search(data)\n",
    "            else:\n",
    "                print('node is not present')\n",
    "\n",
    "    def pre_order_traversal(self):\n",
    "        print(self.key,end=' ')\n",
    "        if self.lchild != None:\n",
    "            self.lchild.pre_order_traversal()\n",
    "        if self.rchild != None:\n",
    "            self.rchild.pre_order_traversal()\n",
    "            \n",
    "    def in_order_traversal(self):\n",
    "        if self.lchild != None:\n",
    "            self.lchild.in_order_traversal()\n",
    "        print(self.key,end=\" \")\n",
    "        if self.rchild != None:\n",
    "            self.rchild.in_order_traversal()\n",
    "    def post_order_traversal(self):\n",
    "        if self.lchild != None:\n",
    "            self.lchild.post_order_traversal()\n",
    "        if self.rchild != None:\n",
    "            self.rchild.post_order_traversal()\n",
    "        print(self.key,end=' ')\n",
    "    from collections import deque\n",
    "    def level_order_traversal(self):\n",
    "        q = deque([self])\n",
    "        while len(q):\n",
    "            self = q.popleft()\n",
    "            print(self.key,end=' ')\n",
    "            if self.lchild: q.append(self.lchild)\n",
    "            if self.rchild : q.append(self.rchild)\n",
    "        \n",
    "    def delete(self,data,curr):\n",
    "        if self.key is None:\n",
    "            print('tree is empty')\n",
    "            return\n",
    "        if data < self.key:\n",
    "            if self.lchild:\n",
    "                self.lchild=self.lchild.delete(data,curr)\n",
    "            else:\n",
    "                print('given node is not present in the tree')\n",
    "        elif data > self.key:\n",
    "            if self.rchild:\n",
    "                self.rchild = self.rchild.delete(data,curr)\n",
    "            else:\n",
    "                print('given node is not present in the tree')\n",
    "        else:\n",
    "            if self.lchild is None:\n",
    "                temp = self.rchild\n",
    "                if data==curr:\n",
    "                    self.key=temp.key\n",
    "                    self.lchild=temp.lchild\n",
    "                    self.rchild=temp.rchild\n",
    "                    temp=None\n",
    "                self  = None\n",
    "                return temp\n",
    "            if self.rchild is None:\n",
    "                temp = self.lchild\n",
    "                if data==curr:\n",
    "                    self.key=temp.key\n",
    "                    self.lchild=temp.lchild\n",
    "                    self.rchild=temp.rchild\n",
    "                    temp=None\n",
    "                self  = None\n",
    "                return temp\n",
    "            node=self.rchild\n",
    "            while node.lchild!=None:\n",
    "                node=node.lchild\n",
    "            self.key = node.key\n",
    "            self.rchild = self.rchild.delete(node.key,curr)\n",
    "        return self    \n",
    "    def minval(self):\n",
    "        current=self\n",
    "        while current.lchild:\n",
    "            current=current.lchild\n",
    "        return current.key\n",
    "    def maxval(self):\n",
    "        while self.rchild:\n",
    "            self=self.rchild\n",
    "        return self.key\n",
    "    \n",
    "    def countrange(self,low,high):\n",
    "        \n",
    "        if self.key is None:\n",
    "            return None\n",
    "        count=0\n",
    "        while self.lchild:\n",
    "            if self.lchild.key >=low and self.lchild.key < high:\n",
    "                count+=1\n",
    "            self=self.lchild\n",
    "        return count    "
   ]
  },
  {
   "cell_type": "code",
   "execution_count": 68,
   "metadata": {},
   "outputs": [],
   "source": [
    "root=bst(10)\n",
    "for i in [67,34,82,12,45,78]:\n",
    "    root.insert(i)\n"
   ]
  },
  {
   "cell_type": "code",
   "execution_count": 69,
   "metadata": {},
   "outputs": [
    {
     "data": {
      "text/plain": [
       "0"
      ]
     },
     "execution_count": 69,
     "metadata": {},
     "output_type": "execute_result"
    }
   ],
   "source": [
    "root.countrange(12,45)"
   ]
  },
  {
   "cell_type": "code",
   "execution_count": 70,
   "metadata": {},
   "outputs": [
    {
     "name": "stdout",
     "output_type": "stream",
     "text": [
      "10 67 34 82 12 45 78 "
     ]
    }
   ],
   "source": [
    "root.level_order_traversal()"
   ]
  },
  {
   "cell_type": "code",
   "execution_count": 71,
   "metadata": {},
   "outputs": [
    {
     "name": "stdout",
     "output_type": "stream",
     "text": [
      "node is not present\n"
     ]
    }
   ],
   "source": [
    "root.search(3)"
   ]
  },
  {
   "cell_type": "code",
   "execution_count": 72,
   "metadata": {},
   "outputs": [
    {
     "name": "stdout",
     "output_type": "stream",
     "text": [
      "10 67 34 12 45 82 78 "
     ]
    }
   ],
   "source": [
    "root.pre_order_traversal()"
   ]
  },
  {
   "cell_type": "code",
   "execution_count": 73,
   "metadata": {},
   "outputs": [
    {
     "name": "stdout",
     "output_type": "stream",
     "text": [
      "10 12 34 45 67 78 82 "
     ]
    }
   ],
   "source": [
    "root.in_order_traversal()"
   ]
  },
  {
   "cell_type": "code",
   "execution_count": 74,
   "metadata": {},
   "outputs": [
    {
     "name": "stdout",
     "output_type": "stream",
     "text": [
      "12 45 34 78 82 67 10 "
     ]
    }
   ],
   "source": [
    "root.post_order_traversal()"
   ]
  },
  {
   "cell_type": "code",
   "execution_count": 75,
   "metadata": {},
   "outputs": [],
   "source": [
    "#root.delete(98,root.key)"
   ]
  },
  {
   "cell_type": "code",
   "execution_count": 76,
   "metadata": {},
   "outputs": [],
   "source": [
    "def count(node):\n",
    "    if node is None:\n",
    "        return 0\n",
    "    return 1+count(node.lchild)+count(node.rchild)"
   ]
  },
  {
   "cell_type": "code",
   "execution_count": 77,
   "metadata": {},
   "outputs": [
    {
     "name": "stdout",
     "output_type": "stream",
     "text": [
      "7\n"
     ]
    }
   ],
   "source": [
    "print(count(root))"
   ]
  },
  {
   "cell_type": "code",
   "execution_count": 78,
   "metadata": {},
   "outputs": [],
   "source": [
    "if count(root) > 1:\n",
    "    root.delete(10,root.key)\n",
    "else:\n",
    "    print('cant perform deletion operation')"
   ]
  },
  {
   "cell_type": "code",
   "execution_count": 79,
   "metadata": {},
   "outputs": [
    {
     "name": "stdout",
     "output_type": "stream",
     "text": [
      "67 34 12 45 82 78 "
     ]
    }
   ],
   "source": [
    "root.pre_order_traversal()"
   ]
  },
  {
   "cell_type": "code",
   "execution_count": 80,
   "metadata": {},
   "outputs": [
    {
     "data": {
      "text/plain": [
       "12"
      ]
     },
     "execution_count": 80,
     "metadata": {},
     "output_type": "execute_result"
    }
   ],
   "source": [
    "root.minval()"
   ]
  },
  {
   "cell_type": "code",
   "execution_count": 81,
   "metadata": {},
   "outputs": [
    {
     "data": {
      "text/plain": [
       "82"
      ]
     },
     "execution_count": 81,
     "metadata": {},
     "output_type": "execute_result"
    }
   ],
   "source": [
    "root.maxval()"
   ]
  },
  {
   "cell_type": "markdown",
   "metadata": {},
   "source": [
    "## HEAP"
   ]
  },
  {
   "cell_type": "markdown",
   "metadata": {},
   "source": [
    "### Binary Haeap\n",
    "### Binomial Heap\n",
    "### Fibonacci Haep"
   ]
  },
  {
   "cell_type": "markdown",
   "metadata": {},
   "source": [
    "#### binary Heap\n",
    "#### Heap Property -- complete binary tree , where key of every parent node is :\n",
    "  ####  1. less than or equal to child node key-- min heap\n",
    "  ####  2. greater than or equal to child node key -- max heap "
   ]
  },
  {
   "cell_type": "code",
   "execution_count": null,
   "metadata": {},
   "outputs": [],
   "source": []
  },
  {
   "cell_type": "code",
   "execution_count": null,
   "metadata": {},
   "outputs": [],
   "source": []
  },
  {
   "cell_type": "code",
   "execution_count": null,
   "metadata": {},
   "outputs": [],
   "source": []
  },
  {
   "cell_type": "markdown",
   "metadata": {},
   "source": [
    "## GRAPHS"
   ]
  },
  {
   "cell_type": "markdown",
   "metadata": {},
   "source": [
    "### G=(V,E)\n",
    "### G=graphs , V=set of vertices , E=set of edges\n"
   ]
  },
  {
   "cell_type": "markdown",
   "metadata": {},
   "source": [
    "#### graphs are used in google maps,facebook,linkdin,e-commerce websites"
   ]
  },
  {
   "cell_type": "markdown",
   "metadata": {},
   "source": [
    "types of graph: \n",
    "    directed graph \n",
    "    undirected graph"
   ]
  },
  {
   "cell_type": "markdown",
   "metadata": {},
   "source": [
    "### directed graph :\n",
    "    a graph in which all edges are unidirectional\n",
    "    "
   ]
  },
  {
   "cell_type": "markdown",
   "metadata": {},
   "source": [
    "### undirected graph :\n",
    "    edges are bidirectional"
   ]
  },
  {
   "cell_type": "markdown",
   "metadata": {},
   "source": [
    "#### weighted graphs:\n",
    "    edges has value\n",
    "#### unweighted graph: \n",
    "     edges does not have value"
   ]
  },
  {
   "cell_type": "markdown",
   "metadata": {},
   "source": [
    "#### Cyclic graph:\n",
    "    it contain cycle\n",
    "#### Acyclic graph :\n",
    "    no cycle present"
   ]
  },
  {
   "cell_type": "markdown",
   "metadata": {},
   "source": [
    "#### GRAPH OPERSATION"
   ]
  },
  {
   "cell_type": "code",
   "execution_count": 82,
   "metadata": {},
   "outputs": [],
   "source": [
    "# this is node insertion method using adjacency matrix"
   ]
  },
  {
   "cell_type": "code",
   "execution_count": 83,
   "metadata": {},
   "outputs": [
    {
     "name": "stdout",
     "output_type": "stream",
     "text": [
      "Before adding nodes\n",
      "[]\n",
      "[]\n",
      "A node is already present in geaph\n",
      "After adding nodes\n",
      "['A', 'B', 'C']\n",
      "[[0, 10, 20], [10, 0, 0], [20, 0, 0]]\n",
      "0    10   20   \n",
      "10   0    0    \n",
      "20   0    0    \n"
     ]
    }
   ],
   "source": [
    "def add_node(v):\n",
    "    global node_count\n",
    "    if v in nodes:\n",
    "        print(v,'node is already present in geaph')\n",
    "    else:\n",
    "        node_count+=1\n",
    "        nodes.append(v)\n",
    "        for i in graph:\n",
    "            i.append(0)\n",
    "        temp=[]\n",
    "        for j in range(node_count):\n",
    "            temp.append(0)\n",
    "        graph.append(temp)\n",
    "        \n",
    "def add_edge(v1,v2,cost):\n",
    "    if v1 not in nodes:\n",
    "        print(v1,'is not present in graph')\n",
    "    elif v2 not in nodes:\n",
    "        print(v2,'is not present in graph')\n",
    "    else:\n",
    "        index1 = nodes.index(v1)\n",
    "        index2 = nodes.index(v2)\n",
    "        graph[index1][index2] = cost\n",
    "        graph[index2][index1] = cost\n",
    "        \n",
    "def print_graph():\n",
    "    for i in range(node_count):\n",
    "        for j in range(node_count):\n",
    "            print(format(graph[i][j],\"<4\"),end=\" \")\n",
    "        print()\n",
    "        \n",
    "nodes = []\n",
    "graph = []\n",
    "node_count = 0\n",
    "print('Before adding nodes')\n",
    "print(nodes)\n",
    "print(graph)\n",
    "add_node(\"A\")\n",
    "add_node('A')\n",
    "add_node('B')\n",
    "add_node('C')\n",
    "add_edge('A','B',10)\n",
    "add_edge('A','C',20)\n",
    "print('After adding nodes')\n",
    "print(nodes)\n",
    "print(graph)\n",
    "print_graph()\n",
    "\n"
   ]
  },
  {
   "cell_type": "code",
   "execution_count": 84,
   "metadata": {},
   "outputs": [],
   "source": [
    "# This is node insertion using adjacency list and adjacency list is done by dictonary method , keys in dictanary are nodes \n",
    "# values are adjacent nodes"
   ]
  },
  {
   "cell_type": "code",
   "execution_count": 85,
   "metadata": {},
   "outputs": [
    {
     "name": "stdout",
     "output_type": "stream",
     "text": [
      "A is present in graph\n",
      "{'A': [], 'B': []}\n"
     ]
    }
   ],
   "source": [
    "def add_node(v):\n",
    "    if v in graph:\n",
    "        print(v,'is present in graph')\n",
    "    else:\n",
    "        graph[v] = []\n",
    "        \n",
    "graph = {}\n",
    "add_node('A')\n",
    "add_node('A')\n",
    "add_node('B')\n",
    "print(graph)\n"
   ]
  },
  {
   "cell_type": "code",
   "execution_count": null,
   "metadata": {},
   "outputs": [],
   "source": [
    "# graph "
   ]
  }
 ],
 "metadata": {
  "kernelspec": {
   "display_name": "Python 3",
   "language": "python",
   "name": "python3"
  },
  "language_info": {
   "codemirror_mode": {
    "name": "ipython",
    "version": 3
   },
   "file_extension": ".py",
   "mimetype": "text/x-python",
   "name": "python",
   "nbconvert_exporter": "python",
   "pygments_lexer": "ipython3",
   "version": "3.8.5"
  }
 },
 "nbformat": 4,
 "nbformat_minor": 4
}
